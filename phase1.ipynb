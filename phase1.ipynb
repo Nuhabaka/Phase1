{
  "metadata": {
    "kernelspec": {
      "name": "python",
      "display_name": "Python (Pyodide)",
      "language": "python"
    },
    "language_info": {
      "codemirror_mode": {
        "name": "python",
        "version": 3
      },
      "file_extension": ".py",
      "mimetype": "text/x-python",
      "name": "python",
      "nbconvert_exporter": "python",
      "pygments_lexer": "ipython3",
      "version": "3.8"
    }
  },
  "nbformat_minor": 4,
  "nbformat": 4,
  "cells": [
    {
      "cell_type": "markdown",
      "source": "## Goal:\nIn this project, our primary goal is to use the Summer Olympic Medals dataset to cluster and classify athletes' performances in terms of medals won. We aim to develop a predictive model that forecasts the likelihood of an athlete winning a Gold, Silver, Bronze, or no medal based on factors such as team, country, sport, and their previous medal history.\n\n## Source:\n\nThe dataset was obtained from Kaggle: (https://www.kaggle.com/datasets/bhanupratapbiswas/olympic-data)\n\n## General information about the dataset\nThe dataset consists of 11 attributes and the number of objects is 70000, these attributes contribute in determining the winner of medals in olympics.\n\n\n# attributes explanation:\n\n**ID:** Unique identifier for each athlete.\n\n**Name:** Name of the athlete.\n\n**Sex:** Gender of the athlete.\n\n**Age:** Age of the ahtlete.\n\n**Height:** Height of the athlete(in centimeters).\n\n**Weight:** Weight of the athlete(in kilograms).\n\n**Team:** Team the athlete represents.\n\n**NOC:** National Olympic Committee code.\n\n**Games:** Year and Season of the Olympic Games.\n\n**Year:** Year of the Olympic Games.\n\n**Season:** Season of the Olympic Games (Summer or Winter).\n\n**City:** Host city of the Olympic Games.\n\n**Sport:** Sport in which the athlete competes.\n\n**Event:** Event in which the athlete participates.\n\n**Medal:** Medal won by the athlete (Gold, Silver, Bronze).\n\n# number and the type of attributes:\nNumber of attributes: 15\n\nData types:\n\nID:          int64\n \nName:       object\n\nSex:        object\n\nAge:       float64\n\nHeight:    float64\n\nWeight:    float64\n\nTeam:       object\n\nNOC:        object\n\nGames:      object\n\nYear:        int64\n\nSeason:     object\n\nCity:       object\n\nSport:      object\n\nEvent:      object\n\nMedal:      object\n\ndtype: object\n",
      "metadata": {}
    },
    {
      "cell_type": "code",
      "source": "import pandas as pd\ndf = pd.read_csv('dataset_olympics.csv')",
      "metadata": {
        "trusted": true
      },
      "outputs": [],
      "execution_count": 2
    },
    {
      "cell_type": "code",
      "source": "# Display the attribute (column) names\nprint(\"Attribute names:\\n\", df.columns)",
      "metadata": {
        "trusted": true
      },
      "outputs": [
        {
          "name": "stdout",
          "text": "Attribute names:\n Index(['ID', 'Name', 'Sex', 'Age', 'Height', 'Weight', 'Team', 'NOC', 'Games',\n       'Year', 'Season', 'City', 'Sport', 'Event', 'Medal'],\n      dtype='object')\n",
          "output_type": "stream"
        }
      ],
      "execution_count": 3
    },
    {
      "cell_type": "code",
      "source": "# Display the data types of each column\nprint(\"\\nData types:\\n\", df.dtypes)",
      "metadata": {
        "trusted": true
      },
      "outputs": [
        {
          "name": "stdout",
          "text": "\nData types:\n ID          int64\nName       object\nSex        object\nAge       float64\nHeight    float64\nWeight    float64\nTeam       object\nNOC        object\nGames      object\nYear        int64\nSeason     object\nCity       object\nSport      object\nEvent      object\nMedal      object\ndtype: object\n",
          "output_type": "stream"
        }
      ],
      "execution_count": 4
    },
    {
      "cell_type": "code",
      "source": "",
      "metadata": {
        "trusted": true
      },
      "outputs": [],
      "execution_count": null
    }
  ]
}