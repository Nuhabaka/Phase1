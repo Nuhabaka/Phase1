{
  "metadata": {
    "kernelspec": {
      "name": "python",
      "display_name": "Python (Pyodide)",
      "language": "python"
    },
    "language_info": {
      "name": ""
    }
  },
  "nbformat_minor": 4,
  "nbformat": 4,
  "cells": [
    {
      "cell_type": "code",
      "source": "## Goal:\nIn this project, our primary goal is to use the Summer Olympic Medals dataset to cluster and classify athletes' performances in terms of medals won. We aim to develop a predictive model that forecasts the likelihood of an athlete winning a Gold, Silver, Bronze, or no medal based on factors such as team, country, sport, and their previous medal history.\n\n## Source:\n\nThe dataset was obtained from Kaggle: (https://www.kaggle.com/datasets/bhanupratapbiswas/olympic-data)\n\n## General information about the dataset\nThe dataset consists of 11 attributes and the number of objects is 70000, these attributes contribute in determining the winner of medals in olympics.\n\n\n# attributes explanation:\n\nPlayer_id: Unique identifier for each athlete.\n\nName: Name of the athlete.\n\nAge: Age of the athlete.\n\nHeight: height of the athlete.\n\nWeight: weight of the athlete.\n\nNOC: National Olympic Committee code for the country.\n\nGames: Year and Season of the Olympic Games.\n\nYear: Year of the Olympic Games.\n\nSeason: Season of the Olympic Games (Summer).\n\nCity: Host city of the Olympic Games.\n\nMedal: Type of medal awarded (Gold, Silver, Bronze) or \"No medal\" if not awarded.\n\n# number and the type of attributes:\nNumber of attributes: 15\nData types:\n ID          int64\nName       object\nSex        object\nAge       float64\nHeight    float64\nWeight    float64\nTeam       object\nNOC        object\nGames      object\nYear        int64\nSeason     object\nCity       object\nSport      object\nEvent      object\nMedal      object\ndtype: object\n",
      "metadata": {
        "trusted": true
      },
      "outputs": [],
      "execution_count": null
    }
  ]
}