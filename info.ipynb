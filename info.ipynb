{
  "metadata": {
    "kernelspec": {
      "name": "python",
      "display_name": "Python (Pyodide)",
      "language": "python"
    },
    "language_info": {
      "codemirror_mode": {
        "name": "python",
        "version": 3
      },
      "file_extension": ".py",
      "mimetype": "text/x-python",
      "name": "python",
      "nbconvert_exporter": "python",
      "pygments_lexer": "ipython3",
      "version": "3.8"
    }
  },
  "nbformat_minor": 4,
  "nbformat": 4,
  "cells": [
    {
      "cell_type": "markdown",
      "source": "## Goal:\nIn this project, our primary goal is to use the Summer Olympic Medals dataset to cluster and classify athletes' performances in terms of medals won. We aim to develop a predictive model that forecasts the likelihood of an athlete winning a Gold, Silver, Bronze, or no medal based on factors such as team, country, sport, and their previous medal history.\n\n## Source:\n\nThe dataset was obtained from Kaggle: (https://www.kaggle.com/datasets/bhanupratapbiswas/olympic-data)\n\n## General information about the dataset\nThe dataset consists of 11 attributes and the number of objects is 70000, these attributes contribute in determining the winner of medals in olympics.\n\n\n# attributes explanation:\n\nPlayer_id: Unique identifier for each athlete.\n\nName: Name of the athlete.\n\nAge: Age of the athlete.\n\nHeight: height of the athlete.\n\nWeight: weight of the athlete.\n\nNOC: National Olympic Committee code for the country.\n\nGames: Year and Season of the Olympic Games.\n\nYear: Year of the Olympic Games.\n\nSeason: Season of the Olympic Games (Summer).\n\nCity: Host city of the Olympic Games.\n\nMedal: Type of medal awarded (Gold, Silver, Bronze) or \"No medal\" if not awarded.\n\n# number and the type of attributes:\nNumber of attributes: 15\n\nData types:\n\n ID          int64\n \nName       object\n\nSex        object\n\nAge       float64\n\nHeight    float64\n\nWeight    float64\n\nTeam       object\n\nNOC        object\n\nGames      object\n\nYear        int64\n\nSeason     object\n\nCity       object\n\nSport      object\n\nEvent      object\n\nMedal      object\n\ndtype: object\n",
      "metadata": {}
    }
  ]
}